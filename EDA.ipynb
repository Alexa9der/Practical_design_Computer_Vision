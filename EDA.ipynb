{
 "cells": [
  {
   "cell_type": "code",
   "execution_count": null,
   "id": "5e7a82c0-7b7c-4ef2-9c9b-8d568a0bd84e",
   "metadata": {},
   "outputs": [],
   "source": [
    "from  lib.project_functions import *"
   ]
  },
  {
   "cell_type": "code",
   "execution_count": null,
   "id": "a579f579-1167-425c-a82f-fef7f504bb26",
   "metadata": {},
   "outputs": [],
   "source": [
    "def load_csv_file(file_list):\n",
    "    \"\"\"\n",
    "    Load CSV files into pandas DataFrames and assign them as global variables.\n",
    "\n",
    "    Args:\n",
    "        file_list (list): A list of file names to load as CSV files.\n",
    "\n",
    "    Returns:\n",
    "        None\n",
    "\n",
    "    This function iterates through the provided list of file names and loads each CSV file\n",
    "    into a pandas DataFrame. The DataFrames are assigned as global variables with names\n",
    "    following the pattern 'csv_<file_name_without_extension>'.\n",
    "\n",
    "    Note:\n",
    "    - Ensure you have the required library (pandas) imported before using this function.\n",
    "    - The function will only load files with a '.csv' extension from the specified list.\n",
    "    - Global variables with names based on the loaded file names will be created, allowing\n",
    "      access to the DataFrames globally.\n",
    "    \"\"\"\n",
    "    for file in file_list:\n",
    "        if \".csv\" in file:\n",
    "            # Extract the base file name without extension\n",
    "            name_file = file.split(\".\")\n",
    "            \n",
    "            # Read the CSV file and assign it as a global variable\n",
    "            globals()[f\"csv_{name_file[0]}\"] = pd.read_csv(f\"data/{file}\") "
   ]
  },
  {
   "cell_type": "code",
   "execution_count": null,
   "id": "261c4a8b-0fda-4ac8-a8c3-5fba72ee8c08",
   "metadata": {},
   "outputs": [],
   "source": [
    "file_list = sorted(os.listdir(\"data\"))\n",
    "file_list"
   ]
  },
  {
   "cell_type": "code",
   "execution_count": null,
   "id": "65ed9dd0-8666-4a63-9005-c03c93c6c329",
   "metadata": {},
   "outputs": [],
   "source": [
    "load_csv_file(file_list)"
   ]
  },
  {
   "cell_type": "code",
   "execution_count": null,
   "id": "9ac04592-6da0-4409-8566-f273a2c32afa",
   "metadata": {},
   "outputs": [],
   "source": [
    "csv_Train.sample(5)"
   ]
  },
  {
   "cell_type": "code",
   "execution_count": null,
   "id": "b4b53437-9677-4438-ad32-dae4cf35a2ba",
   "metadata": {
    "scrolled": true
   },
   "outputs": [],
   "source": [
    "csv_Train.nunique()"
   ]
  },
  {
   "cell_type": "code",
   "execution_count": null,
   "id": "cd2248a3-830b-4b2a-aab1-959987630018",
   "metadata": {
    "scrolled": true
   },
   "outputs": [],
   "source": [
    "classid_count = csv_Train['ClassId'].value_counts()\n",
    "classid_count"
   ]
  },
  {
   "cell_type": "code",
   "execution_count": null,
   "id": "a1ebadde-be66-43cd-960f-02ae39cf22e9",
   "metadata": {},
   "outputs": [],
   "source": [
    "plt.figure(figsize=(10, 6))  # Adjust the figure size as needed\n",
    "plt.bar(classid_count.index, classid_count.values)\n",
    "plt.xlabel('ClassId')\n",
    "plt.ylabel('Count')\n",
    "plt.title('Value Counts of ClassId')\n",
    "plt.xticks(rotation=90)  # Rotate x-axis labels for better readability if necessary\n",
    "plt.tight_layout()\n",
    "\n",
    "# Display the plot\n",
    "plt.show()"
   ]
  },
  {
   "cell_type": "code",
   "execution_count": null,
   "id": "2a8dd1d0-253c-4947-bbe9-6f418e2a26a6",
   "metadata": {},
   "outputs": [],
   "source": [
    "csv_Train.describe()"
   ]
  },
  {
   "cell_type": "code",
   "execution_count": null,
   "id": "e9e8765c-4c5e-4d56-ac66-4b0bddbe311c",
   "metadata": {},
   "outputs": [],
   "source": [
    "file_list"
   ]
  },
  {
   "cell_type": "code",
   "execution_count": null,
   "id": "0dbcf916-af65-449a-afed-e9f977448b0c",
   "metadata": {},
   "outputs": [],
   "source": [
    "data = loading_random_data()\n",
    "data.shape"
   ]
  },
  {
   "cell_type": "code",
   "execution_count": null,
   "id": "7f4ebdd5-5241-44a9-8857-455998ee3c60",
   "metadata": {
    "scrolled": true
   },
   "outputs": [],
   "source": [
    "for image in data:\n",
    "    print(image.min(), image.max())\n",
    "    image_show(image)\n",
    "    show_histogram(image)"
   ]
  },
  {
   "cell_type": "code",
   "execution_count": null,
   "id": "54db41a9-4d1c-4472-b8d5-24dfc386def6",
   "metadata": {},
   "outputs": [],
   "source": [
    "for image in data:\n",
    "    image = histogram_equalization(image)\n",
    "    image_show( histogram_equalization(image))\n",
    "    show_histogram(image)"
   ]
  },
  {
   "cell_type": "code",
   "execution_count": null,
   "id": "a482a533-7a5f-4209-8af8-da24bff520de",
   "metadata": {
    "scrolled": true
   },
   "outputs": [],
   "source": [
    "for image in data:\n",
    "    image =  contour_alignment(image)\n",
    "    image_show(image)\n",
    "    show_histogram(image)"
   ]
  },
  {
   "cell_type": "code",
   "execution_count": null,
   "id": "5437fafb-1932-47bb-9dc1-095af846c95c",
   "metadata": {},
   "outputs": [],
   "source": [
    "for image in data:\n",
    "    image = cv.medianBlur(image, 5)\n",
    "    image_show(image)\n",
    "    # show_histogram(image)"
   ]
  },
  {
   "cell_type": "code",
   "execution_count": null,
   "id": "770de187-4dd0-4481-a49d-14f0e5c34976",
   "metadata": {
    "scrolled": true
   },
   "outputs": [],
   "source": [
    "for image in data:\n",
    "    image_show(contour_in_binarized_image(image))"
   ]
  },
  {
   "cell_type": "code",
   "execution_count": null,
   "id": "407950c5-a2f4-4cce-b0e1-dc8953386f0a",
   "metadata": {
    "scrolled": true
   },
   "outputs": [],
   "source": [
    "for image in data:\n",
    "    image_show(otsu_threshold_contours(image))\n",
    "    image_show(adaptive_threshold_contours(image))"
   ]
  },
  {
   "cell_type": "code",
   "execution_count": null,
   "id": "ef3d5f5d-2461-4715-87fd-b60cee9003ef",
   "metadata": {
    "scrolled": true
   },
   "outputs": [],
   "source": [
    "for image in data:\n",
    "    image = cv.medianBlur(image, ksize = 5) \n",
    "    image = histogram_equalization(image)\n",
    "    image = contour_alignment(image, tileGridSize=(8, 8))\n",
    "    image = contour_in_binarized_image(image)\n",
    "    image = otsu_threshold_contours(image)\n",
    "    # image = adaptive_threshold_contours(image)\n",
    "    \n",
    "    image_show(image)"
   ]
  },
  {
   "cell_type": "code",
   "execution_count": null,
   "id": "313ff92c-69ae-4936-9398-b4565de414db",
   "metadata": {},
   "outputs": [],
   "source": [
    "def median_blur(image, ksize = 5):\n",
    "    return cv.medianBlur(image, ksize)"
   ]
  },
  {
   "cell_type": "code",
   "execution_count": null,
   "id": "74516378-a802-4d3b-aac2-eca5bfafdbaa",
   "metadata": {},
   "outputs": [],
   "source": [
    "# import itertools\n",
    "\n",
    "# functions = {\n",
    "#     \"medianBlur\": median_blur,\n",
    "#     \"histogram_equalization\": histogram_equalization,\n",
    "#     \"contour_alignment\": contour_alignment,\n",
    "#     \"contour_in_binarized_image\": contour_in_binarized_image,\n",
    "#     \"otsu_threshold_contours\": otsu_threshold_contours\n",
    "# }\n",
    "\n",
    "\n",
    "# function_combinations = []\n",
    "# for i in range(len(functions) + 1 ):\n",
    "#     function_combinations.extend(list(itertools.combinations(functions.keys(), i)))\n",
    "\n",
    "# # Loop through each feature combination and each image\n",
    "# for combination in function_combinations:\n",
    "#     for image in data:\n",
    "#         # Call each function by its name in the current combination\n",
    "#         processed_image = image\n",
    "#         for func_name in combination:\n",
    "#             processed_image = functions[func_name](processed_image)\n",
    "        \n",
    "#         # Print information about the current combination of functions\n",
    "#         print(f\"Combination: {', '.join(combination)}\")\n",
    "        \n",
    "       \n",
    "#         image_show(processed_image)\n"
   ]
  },
  {
   "cell_type": "markdown",
   "id": "a5ee3a89-233d-4c9a-b0b8-93011fafc1f2",
   "metadata": {},
   "source": [
    " # favorite\n",
    " "
   ]
  },
  {
   "cell_type": "code",
   "execution_count": null,
   "id": "f67d3cd4-90c4-48ee-83ce-7b3ef58fb776",
   "metadata": {},
   "outputs": [],
   "source": [
    "def image_preprocessing(image):\n",
    "    image = cv.detailEnhance(image, sigma_s=50, sigma_r=0.3)\n",
    "    image = cv.medianBlur(image, 3)\n",
    "    image = cv.addWeighted(image, 1.5, image, -0.5, 0)\n",
    "    # image = otsu_threshold_contours(image)\n",
    "    \n",
    "    return image\n",
    "\n",
    "for image in data:\n",
    "    image_show(image)\n",
    "    image = image_preprocessing(image)\n",
    "    image_show(image)"
   ]
  },
  {
   "cell_type": "code",
   "execution_count": null,
   "id": "6e018ff5-9070-4aab-9119-a40e94700ae0",
   "metadata": {},
   "outputs": [],
   "source": []
  }
 ],
 "metadata": {
  "kernelspec": {
   "display_name": "Python 3 (ipykernel)",
   "language": "python",
   "name": "python3"
  },
  "language_info": {
   "codemirror_mode": {
    "name": "ipython",
    "version": 3
   },
   "file_extension": ".py",
   "mimetype": "text/x-python",
   "name": "python",
   "nbconvert_exporter": "python",
   "pygments_lexer": "ipython3",
   "version": "3.11.5"
  }
 },
 "nbformat": 4,
 "nbformat_minor": 5
}
