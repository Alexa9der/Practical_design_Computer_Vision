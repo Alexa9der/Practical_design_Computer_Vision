{
 "cells": [
  {
   "cell_type": "code",
   "execution_count": 1,
   "id": "54fa8486-9e10-459a-b7b8-6421f4b323f0",
   "metadata": {},
   "outputs": [],
   "source": [
    "from  lib.project_functions import * "
   ]
  },
  {
   "cell_type": "code",
   "execution_count": 2,
   "id": "420a21d4-2162-4ed9-bb46-70c84fec890d",
   "metadata": {
    "scrolled": true
   },
   "outputs": [
    {
     "name": "stdout",
     "output_type": "stream",
     "text": [
      "Found 78420 images belonging to 43 classes.\n"
     ]
    }
   ],
   "source": [
    "X, y = generator(train = True, test = True, generator_batch_size= 512)"
   ]
  },
  {
   "cell_type": "code",
   "execution_count": 3,
   "id": "9fa825c3-1462-475d-94fe-2affdfe6f455",
   "metadata": {},
   "outputs": [],
   "source": [
    "split_ratio = 0.8\n",
    "num_samples = len(X)\n",
    "split_index = int(split_ratio * num_samples)\n",
    "\n",
    "train_data = X\n",
    "validation_data = train_data\n",
    "\n",
    "# Оставьте только часть данных для валидации\n",
    "train_data.samples = split_index\n",
    "validation_data.samples = num_samples - split_index"
   ]
  },
  {
   "cell_type": "code",
   "execution_count": 5,
   "id": "205344ea-2059-4671-897a-ce06b90d0ea7",
   "metadata": {},
   "outputs": [],
   "source": [
    "num_classes = int(pd.read_csv(\"data/Train.csv\", usecols= [\"ClassId\"]).nunique())"
   ]
  },
  {
   "cell_type": "code",
   "execution_count": 6,
   "id": "d10bc0eb-0fc6-408f-8c1d-3026627f61bd",
   "metadata": {},
   "outputs": [
    {
     "data": {
      "text/plain": [
       "43"
      ]
     },
     "execution_count": 6,
     "metadata": {},
     "output_type": "execute_result"
    }
   ],
   "source": [
    "num_classes"
   ]
  },
  {
   "cell_type": "code",
   "execution_count": null,
   "id": "7283cfa6-1890-4dc8-acba-c348f7dc27a8",
   "metadata": {
    "scrolled": true
   },
   "outputs": [
    {
     "name": "stdout",
     "output_type": "stream",
     "text": [
      "Epoch 1/100\n",
      " 59/154 [==========>...................] - ETA: 46:55 - loss: 8.2890 - accuracy: 0.0482"
     ]
    }
   ],
   "source": [
    "input_tensor = Input(shape=(128, 128, 3), name=\"input\")\n",
    "model1_c1 = Conv2D(32, (3, 3), name=\"model1_c1\")(input_tensor)\n",
    "bn = BatchNormalization()(model1_c1)\n",
    "action = Activation('relu')(bn)\n",
    "\n",
    "model1_c2 = Conv2D(32, (3, 3), activation='relu', name = \"model1_c2\")(action)\n",
    "\n",
    "model1_c3 = Conv2D(64, (3, 3), activation='relu', name = \"model1_c3\")(model1_c2)\n",
    "bn = BatchNormalization()(model1_c3)\n",
    "action = Activation('relu')(bn)\n",
    "\n",
    "model1_p1 = MaxPooling2D((2, 2), name = \"model1_p1\")(action)\n",
    "\n",
    "model1_drop1 = Dropout(0.2)(model1_p1)\n",
    "model1_flat= Flatten()(model1_drop1)\n",
    "\n",
    "model1_d1 = Dense(128, activation='relu', name = \"model1_d1\")(model1_flat)\n",
    "model1_d2 = Dense(256, activation='relu', name = \"model1_d2\")(model1_d1)\n",
    "output1 = Dense(num_classes, activation='softmax', name = \"outputs1\")(model1_d2)\n",
    "model_1 = Model(inputs=input_tensor, outputs=output1 )\n",
    "\n",
    "model_1.compile(\n",
    "    optimizer='adam', \n",
    "    loss='categorical_crossentropy',  \n",
    "    metrics=['accuracy']  \n",
    ")\n",
    "\n",
    "callback = EarlyStopping(\n",
    "    patience=10,\n",
    "    monitor=\"val_loss\",\n",
    "    restore_best_weights=True,\n",
    ")\n",
    "\n",
    "checkpoint = ModelCheckpoint(\n",
    "    filepath = \" modelcheckpoint/best_model_1.h5\",\n",
    "    monitor='val_loss', \n",
    "    verbose=1,  \n",
    "    save_best_only=True,  \n",
    "    mode='min'  \n",
    ")\n",
    "\n",
    "hist = model_1.fit(train_data, epochs=100, verbose = 1, validation_data = validation_data, \n",
    "                   callbacks=[callback, checkpoint])\n",
    "\n",
    "# Epoch 1/100\n",
    "# 353/613 [================>.............] - ETA: 5:22:32 - loss: 4.1978 - accuracy: 0.0772  128*128"
   ]
  },
  {
   "cell_type": "code",
   "execution_count": null,
   "id": "6af2bc21-ece4-48ee-9f16-992a13274916",
   "metadata": {},
   "outputs": [],
   "source": [
    "model_1.save(\"models/model_1.h5\")"
   ]
  },
  {
   "cell_type": "code",
   "execution_count": null,
   "id": "910be571-2218-458f-9e81-e4e1cd1fb50d",
   "metadata": {},
   "outputs": [],
   "source": [
    "loaded_model = load_model(\"models/model_1.h5)"
   ]
  },
  {
   "cell_type": "code",
   "execution_count": null,
   "id": "3808ba75-b88d-48b7-a6a2-310f4bc0f5e1",
   "metadata": {},
   "outputs": [],
   "source": []
  },
  {
   "cell_type": "code",
   "execution_count": null,
   "id": "f5be0e1d-1b9a-4a3c-a2a3-646bbe159d8b",
   "metadata": {},
   "outputs": [],
   "source": [
    "qweassdzzxc"
   ]
  },
  {
   "cell_type": "code",
   "execution_count": null,
   "id": "348f6ede-0f0f-435f-8955-9b043af8c322",
   "metadata": {},
   "outputs": [],
   "source": []
  },
  {
   "cell_type": "code",
   "execution_count": null,
   "id": "7af7debf-8ea0-47d5-ac66-78425c70ce81",
   "metadata": {},
   "outputs": [],
   "source": []
  },
  {
   "cell_type": "code",
   "execution_count": null,
   "id": "8d3b4396-3116-4dda-9829-6f5b841af049",
   "metadata": {},
   "outputs": [],
   "source": []
  }
 ],
 "metadata": {
  "kernelspec": {
   "display_name": "Python 3 (ipykernel)",
   "language": "python",
   "name": "python3"
  },
  "language_info": {
   "codemirror_mode": {
    "name": "ipython",
    "version": 3
   },
   "file_extension": ".py",
   "mimetype": "text/x-python",
   "name": "python",
   "nbconvert_exporter": "python",
   "pygments_lexer": "ipython3",
   "version": "3.11.5"
  }
 },
 "nbformat": 4,
 "nbformat_minor": 5
}
