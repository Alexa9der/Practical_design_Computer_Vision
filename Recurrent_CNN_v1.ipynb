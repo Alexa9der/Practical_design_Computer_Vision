{
  "nbformat": 4,
  "nbformat_minor": 0,
  "metadata": {
    "colab": {
      "provenance": []
    },
    "kernelspec": {
      "name": "python3",
      "display_name": "Python 3"
    },
    "language_info": {
      "name": "python"
    }
  },
  "cells": [
    {
      "cell_type": "code",
      "execution_count": null,
      "metadata": {
        "id": "iLx32L9qnzLf"
      },
      "outputs": [],
      "source": [
        "import tensorflow as tf\n",
        "from tensorflow.keras import layers\n",
        "class RecurrentConvNextTiny(tf.keras.Model):\n",
        "  def __init__(self):\n",
        "    super().__init__()\n",
        "    self.backbone  = tf.keras.applications.convnext.ConvNeXtTiny(\n",
        "                    model_name='convnext_tiny',\n",
        "                    include_top=False,\n",
        "                    include_preprocessing=True,\n",
        "                    weights='imagenet',\n",
        "                    input_tensor=None,\n",
        "                    input_shape=(224, 224, 3)\n",
        "                )\n",
        "\n",
        "\n",
        "    self.gru = layers.GRU(128, activation='tanh')\n",
        "    self.dense1 = layers.Dense(64, activation=\"relu\")\n",
        "    self.dense2 = layers.Dense(64, activation=\"relu\")\n",
        "\n",
        "    self.output_layer = layers.Dense(5, activation=\"softmax\")\n",
        "\n",
        "  def __call__(self, inputs, training=False):\n",
        "    recurrent_inputs = []\n",
        "    for i in range(inputs.shape[1]):\n",
        "      image_features = self.backbone(inputs[:,i])\n",
        "      image_features = tf.keras.layers.Flatten()(image_features)\n",
        "      recurrent_inputs.append(image_features)\n",
        "\n",
        "    rnn_input = tf.stack(recurrent_inputs, axis=1)\n",
        "\n",
        "    x = self.gru(rnn_input)\n",
        "    x = self.dense1(x)\n",
        "    x = self.dense2(x)\n",
        "    return self.output_layer(x)"
      ]
    },
    {
      "cell_type": "code",
      "source": [
        "model = RecurrentConvNextTiny()"
      ],
      "metadata": {
        "id": "FRF6VYPOpWpl"
      },
      "execution_count": null,
      "outputs": []
    },
    {
      "cell_type": "code",
      "source": [
        "sample_input = tf.random.normal((7,5,224,224,3))"
      ],
      "metadata": {
        "id": "me8E09X5pfm-"
      },
      "execution_count": null,
      "outputs": []
    },
    {
      "cell_type": "code",
      "source": [
        "model.predict(sample_input)"
      ],
      "metadata": {
        "colab": {
          "base_uri": "https://localhost:8080/"
        },
        "id": "fyn0gR3Cpr6-",
        "outputId": "e61ba162-1ba8-4cb8-a2b2-51c8b2b9df3c"
      },
      "execution_count": null,
      "outputs": [
        {
          "output_type": "stream",
          "name": "stdout",
          "text": [
            "1/1 [==============================] - 68s 68s/step\n"
          ]
        },
        {
          "output_type": "execute_result",
          "data": {
            "text/plain": [
              "array([[0.271167  , 0.33411783, 0.13445558, 0.1783922 , 0.08186743],\n",
              "       [0.26734263, 0.31150568, 0.14871182, 0.18566348, 0.0867764 ],\n",
              "       [0.2779697 , 0.31962883, 0.12939364, 0.18865162, 0.08435615],\n",
              "       [0.2533247 , 0.3211682 , 0.15052849, 0.18983278, 0.08514585],\n",
              "       [0.25616467, 0.32577506, 0.14166562, 0.19265145, 0.08374324],\n",
              "       [0.26658738, 0.32319444, 0.13510163, 0.191401  , 0.08371557],\n",
              "       [0.268578  , 0.31550312, 0.14008923, 0.18895923, 0.08687049]],\n",
              "      dtype=float32)"
            ]
          },
          "metadata": {},
          "execution_count": 21
        }
      ]
    },
    {
      "cell_type": "code",
      "source": [],
      "metadata": {
        "id": "HJ9ZtC6Apu6r"
      },
      "execution_count": null,
      "outputs": []
    },
    {
      "cell_type": "markdown",
      "source": [
        "# V2"
      ],
      "metadata": {
        "id": "aKe-e5onr3oH"
      }
    },
    {
      "cell_type": "code",
      "source": [
        "class RecurrentConvNextTiny(tf.keras.Model):\n",
        "  def __init__(self):\n",
        "    super().__init__()\n",
        "    backbone  = tf.keras.applications.convnext.ConvNeXtTiny(\n",
        "                    model_name='convnext_tiny',\n",
        "                    include_top=False,\n",
        "                    include_preprocessing=True,\n",
        "                    weights='imagenet',\n",
        "                    input_tensor=None,\n",
        "                    input_shape=(224, 224, 3)\n",
        "                )\n",
        "    flatten = tf.keras.layers.Flatten()\n",
        "\n",
        "    self.bottom = tf.keras.layers.TimeDistributed(tf.keras.Sequential([\n",
        "        backbone,\n",
        "        flatten\n",
        "    ]))\n",
        "\n",
        "    self.gru = layers.GRU(128, activation='tanh')\n",
        "    self.dense1 = layers.Dense(64, activation=\"relu\")\n",
        "    self.dense2 = layers.Dense(64, activation=\"relu\")\n",
        "\n",
        "    self.output_layer = layers.Dense(5, activation=\"softmax\")\n",
        "\n",
        "  def __call__(self, inputs, training=False):\n",
        "\n",
        "    x = self.bottom(inputs)\n",
        "    x = self.gru(x)\n",
        "    x = self.dense1(x)\n",
        "    x = self.dense2(x)\n",
        "    return self.output_layer(x)"
      ],
      "metadata": {
        "id": "1T2nZPGpr4OL"
      },
      "execution_count": null,
      "outputs": []
    },
    {
      "cell_type": "code",
      "source": [
        "model = RecurrentConvNextTiny()"
      ],
      "metadata": {
        "id": "5AgIpNiEr6j9"
      },
      "execution_count": null,
      "outputs": []
    },
    {
      "cell_type": "code",
      "source": [
        "model.predict(sample_input)"
      ],
      "metadata": {
        "colab": {
          "base_uri": "https://localhost:8080/"
        },
        "id": "GFOaDdL7r8yW",
        "outputId": "6fd4b675-5d0e-428c-c5be-a6a3473a6bad"
      },
      "execution_count": null,
      "outputs": [
        {
          "output_type": "stream",
          "name": "stdout",
          "text": [
            "1/1 [==============================] - 62s 62s/step\n"
          ]
        },
        {
          "output_type": "execute_result",
          "data": {
            "text/plain": [
              "array([[0.19394262, 0.12502167, 0.1794809 , 0.2600652 , 0.24148965],\n",
              "       [0.1759656 , 0.12841065, 0.17844352, 0.2809659 , 0.23621438],\n",
              "       [0.180843  , 0.13342293, 0.16407986, 0.28569695, 0.23595725],\n",
              "       [0.18915747, 0.12935854, 0.17224367, 0.26526812, 0.24397215],\n",
              "       [0.16939059, 0.1370537 , 0.1690742 , 0.28534546, 0.23913603],\n",
              "       [0.17971508, 0.13906918, 0.15674274, 0.28176472, 0.24270831],\n",
              "       [0.18937613, 0.12763949, 0.17623691, 0.27167746, 0.23507008]],\n",
              "      dtype=float32)"
            ]
          },
          "metadata": {},
          "execution_count": 24
        }
      ]
    },
    {
      "cell_type": "code",
      "source": [],
      "metadata": {
        "id": "WrYqnXeKsXAq"
      },
      "execution_count": null,
      "outputs": []
    }
  ]
}